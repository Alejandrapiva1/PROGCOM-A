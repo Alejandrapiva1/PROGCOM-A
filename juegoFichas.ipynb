{
  "cells": [
    {
      "cell_type": "markdown",
      "source": [
        "Alejandra Piva\n",
        "Dylan Steven Rodriguez Vesga\n"
      ],
      "metadata": {
        "id": "Dy8OSXg18dak"
      }
    },
    {
      "cell_type": "code",
      "execution_count": 3,
      "metadata": {
        "colab": {
          "base_uri": "https://localhost:8080/",
          "height": 116,
          "referenced_widgets": [
            "58e57df6288445b3866d5f297f9452f0",
            "06834634cc0b4cb7a0075d1bef0e17d1",
            "916c24265b3040ae8ebb9a24c1112390",
            "676607e0da7846ad9ba47e0358d4b7ff",
            "5f7869a1ec41466b89fd4fb62336fa52",
            "bee9a9f0039f4ebe9882b45c01fbd8f3",
            "81af0a832e6047769c0c473414b5d6c3",
            "8c2a5fff6f514dc1bc757f635393bfda"
          ]
        },
        "id": "WbRgMnoRR7Qd",
        "outputId": "5e43389b-5654-433d-8634-b5e1beb6a8de"
      },
      "outputs": [
        {
          "output_type": "display_data",
          "data": {
            "text/plain": [
              "Text(value='', description='Intento:', placeholder='Ej: 1234')"
            ],
            "application/vnd.jupyter.widget-view+json": {
              "version_major": 2,
              "version_minor": 0,
              "model_id": "58e57df6288445b3866d5f297f9452f0"
            }
          },
          "metadata": {}
        },
        {
          "output_type": "display_data",
          "data": {
            "text/plain": [
              "Button(description='Verificar', style=ButtonStyle())"
            ],
            "application/vnd.jupyter.widget-view+json": {
              "version_major": 2,
              "version_minor": 0,
              "model_id": "676607e0da7846ad9ba47e0358d4b7ff"
            }
          },
          "metadata": {}
        },
        {
          "output_type": "display_data",
          "data": {
            "text/plain": [
              "Output()"
            ],
            "application/vnd.jupyter.widget-view+json": {
              "version_major": 2,
              "version_minor": 0,
              "model_id": "81af0a832e6047769c0c473414b5d6c3"
            }
          },
          "metadata": {}
        }
      ],
      "source": [
        "import random\n",
        "import ipywidgets as widgets\n",
        "from IPython.display import display, clear_output\n",
        "\n",
        "\n",
        "numero_secreto = ''.join(str(d) for d in random.sample(range(10), 4))\n",
        "\n",
        "historial = []\n",
        "\n",
        "\n",
        "entrada = widgets.Text(\n",
        "    placeholder='Ej: 1234',\n",
        "    description='Intento:',\n",
        "    disabled=False\n",
        ")\n",
        "\n",
        "\n",
        "salida = widgets.Output()\n",
        "\n",
        "\n",
        "boton = widgets.Button(description=\"Verificar\")\n",
        "\n",
        "\n",
        "def evaluar_intento(secreto, intento):\n",
        "    fijas = sum(1 for i in range(4) if intento[i] == secreto[i])\n",
        "    picas = sum(1 for i in range(4) if intento[i] in secreto and intento[i] != secreto[i])\n",
        "    return fijas, picas\n",
        "\n",
        "\n",
        "def verificar(b):\n",
        "    intento = entrada.value.strip()\n",
        "    with salida:\n",
        "        if len(intento) != 4 or not intento.isdigit() or len(set(intento)) != 4:\n",
        "            print(\"❌ Ingresa un número válido de 4 dígitos distintos.\")\n",
        "            return\n",
        "\n",
        "        fijas, picas = evaluar_intento(numero_secreto, intento)\n",
        "        resultado = f\"{intento} → {fijas} fijas, {picas} picas\"\n",
        "        historial.append(resultado)\n",
        "        clear_output()\n",
        "        for r in historial:\n",
        "            print(r)\n",
        "\n",
        "        if fijas == 4:\n",
        "            print(f\"\\n🎉 ¡Felicidades! Adivinaste el número secreto: {numero_secreto}\")\n",
        "            boton.disabled = True\n",
        "            entrada.disabled = True\n",
        "\n",
        "# Enlazar botón con la función\n",
        "boton.on_click(verificar)\n",
        "\n",
        "# Mostrar interfaz\n",
        "display(entrada, boton, salida)\n"
      ]
    }
  ],
  "metadata": {
    "colab": {
      "provenance": []
    },
    "kernelspec": {
      "display_name": "Python 3",
      "name": "python3"
    },
    "language_info": {
      "name": "python"
    },
    "widgets": {
      "application/vnd.jupyter.widget-state+json": {
        "58e57df6288445b3866d5f297f9452f0": {
          "model_module": "@jupyter-widgets/controls",
          "model_name": "TextModel",
          "model_module_version": "1.5.0",
          "state": {
            "_dom_classes": [],
            "_model_module": "@jupyter-widgets/controls",
            "_model_module_version": "1.5.0",
            "_model_name": "TextModel",
            "_view_count": null,
            "_view_module": "@jupyter-widgets/controls",
            "_view_module_version": "1.5.0",
            "_view_name": "TextView",
            "continuous_update": true,
            "description": "Intento:",
            "description_tooltip": null,
            "disabled": false,
            "layout": "IPY_MODEL_06834634cc0b4cb7a0075d1bef0e17d1",
            "placeholder": "Ej: 1234",
            "style": "IPY_MODEL_916c24265b3040ae8ebb9a24c1112390",
            "value": "5678"
          }
        },
        "06834634cc0b4cb7a0075d1bef0e17d1": {
          "model_module": "@jupyter-widgets/base",
          "model_name": "LayoutModel",
          "model_module_version": "1.2.0",
          "state": {
            "_model_module": "@jupyter-widgets/base",
            "_model_module_version": "1.2.0",
            "_model_name": "LayoutModel",
            "_view_count": null,
            "_view_module": "@jupyter-widgets/base",
            "_view_module_version": "1.2.0",
            "_view_name": "LayoutView",
            "align_content": null,
            "align_items": null,
            "align_self": null,
            "border": null,
            "bottom": null,
            "display": null,
            "flex": null,
            "flex_flow": null,
            "grid_area": null,
            "grid_auto_columns": null,
            "grid_auto_flow": null,
            "grid_auto_rows": null,
            "grid_column": null,
            "grid_gap": null,
            "grid_row": null,
            "grid_template_areas": null,
            "grid_template_columns": null,
            "grid_template_rows": null,
            "height": null,
            "justify_content": null,
            "justify_items": null,
            "left": null,
            "margin": null,
            "max_height": null,
            "max_width": null,
            "min_height": null,
            "min_width": null,
            "object_fit": null,
            "object_position": null,
            "order": null,
            "overflow": null,
            "overflow_x": null,
            "overflow_y": null,
            "padding": null,
            "right": null,
            "top": null,
            "visibility": null,
            "width": null
          }
        },
        "916c24265b3040ae8ebb9a24c1112390": {
          "model_module": "@jupyter-widgets/controls",
          "model_name": "DescriptionStyleModel",
          "model_module_version": "1.5.0",
          "state": {
            "_model_module": "@jupyter-widgets/controls",
            "_model_module_version": "1.5.0",
            "_model_name": "DescriptionStyleModel",
            "_view_count": null,
            "_view_module": "@jupyter-widgets/base",
            "_view_module_version": "1.2.0",
            "_view_name": "StyleView",
            "description_width": ""
          }
        },
        "676607e0da7846ad9ba47e0358d4b7ff": {
          "model_module": "@jupyter-widgets/controls",
          "model_name": "ButtonModel",
          "model_module_version": "1.5.0",
          "state": {
            "_dom_classes": [],
            "_model_module": "@jupyter-widgets/controls",
            "_model_module_version": "1.5.0",
            "_model_name": "ButtonModel",
            "_view_count": null,
            "_view_module": "@jupyter-widgets/controls",
            "_view_module_version": "1.5.0",
            "_view_name": "ButtonView",
            "button_style": "",
            "description": "Verificar",
            "disabled": false,
            "icon": "",
            "layout": "IPY_MODEL_5f7869a1ec41466b89fd4fb62336fa52",
            "style": "IPY_MODEL_bee9a9f0039f4ebe9882b45c01fbd8f3",
            "tooltip": ""
          }
        },
        "5f7869a1ec41466b89fd4fb62336fa52": {
          "model_module": "@jupyter-widgets/base",
          "model_name": "LayoutModel",
          "model_module_version": "1.2.0",
          "state": {
            "_model_module": "@jupyter-widgets/base",
            "_model_module_version": "1.2.0",
            "_model_name": "LayoutModel",
            "_view_count": null,
            "_view_module": "@jupyter-widgets/base",
            "_view_module_version": "1.2.0",
            "_view_name": "LayoutView",
            "align_content": null,
            "align_items": null,
            "align_self": null,
            "border": null,
            "bottom": null,
            "display": null,
            "flex": null,
            "flex_flow": null,
            "grid_area": null,
            "grid_auto_columns": null,
            "grid_auto_flow": null,
            "grid_auto_rows": null,
            "grid_column": null,
            "grid_gap": null,
            "grid_row": null,
            "grid_template_areas": null,
            "grid_template_columns": null,
            "grid_template_rows": null,
            "height": null,
            "justify_content": null,
            "justify_items": null,
            "left": null,
            "margin": null,
            "max_height": null,
            "max_width": null,
            "min_height": null,
            "min_width": null,
            "object_fit": null,
            "object_position": null,
            "order": null,
            "overflow": null,
            "overflow_x": null,
            "overflow_y": null,
            "padding": null,
            "right": null,
            "top": null,
            "visibility": null,
            "width": null
          }
        },
        "bee9a9f0039f4ebe9882b45c01fbd8f3": {
          "model_module": "@jupyter-widgets/controls",
          "model_name": "ButtonStyleModel",
          "model_module_version": "1.5.0",
          "state": {
            "_model_module": "@jupyter-widgets/controls",
            "_model_module_version": "1.5.0",
            "_model_name": "ButtonStyleModel",
            "_view_count": null,
            "_view_module": "@jupyter-widgets/base",
            "_view_module_version": "1.2.0",
            "_view_name": "StyleView",
            "button_color": null,
            "font_weight": ""
          }
        },
        "81af0a832e6047769c0c473414b5d6c3": {
          "model_module": "@jupyter-widgets/output",
          "model_name": "OutputModel",
          "model_module_version": "1.0.0",
          "state": {
            "_dom_classes": [],
            "_model_module": "@jupyter-widgets/output",
            "_model_module_version": "1.0.0",
            "_model_name": "OutputModel",
            "_view_count": null,
            "_view_module": "@jupyter-widgets/output",
            "_view_module_version": "1.0.0",
            "_view_name": "OutputView",
            "layout": "IPY_MODEL_8c2a5fff6f514dc1bc757f635393bfda",
            "msg_id": "",
            "outputs": [
              {
                "output_type": "stream",
                "name": "stdout",
                "text": [
                  "3456 → 1 fijas, 1 picas\n",
                  "5678 → 0 fijas, 1 picas\n"
                ]
              }
            ]
          }
        },
        "8c2a5fff6f514dc1bc757f635393bfda": {
          "model_module": "@jupyter-widgets/base",
          "model_name": "LayoutModel",
          "model_module_version": "1.2.0",
          "state": {
            "_model_module": "@jupyter-widgets/base",
            "_model_module_version": "1.2.0",
            "_model_name": "LayoutModel",
            "_view_count": null,
            "_view_module": "@jupyter-widgets/base",
            "_view_module_version": "1.2.0",
            "_view_name": "LayoutView",
            "align_content": null,
            "align_items": null,
            "align_self": null,
            "border": null,
            "bottom": null,
            "display": null,
            "flex": null,
            "flex_flow": null,
            "grid_area": null,
            "grid_auto_columns": null,
            "grid_auto_flow": null,
            "grid_auto_rows": null,
            "grid_column": null,
            "grid_gap": null,
            "grid_row": null,
            "grid_template_areas": null,
            "grid_template_columns": null,
            "grid_template_rows": null,
            "height": null,
            "justify_content": null,
            "justify_items": null,
            "left": null,
            "margin": null,
            "max_height": null,
            "max_width": null,
            "min_height": null,
            "min_width": null,
            "object_fit": null,
            "object_position": null,
            "order": null,
            "overflow": null,
            "overflow_x": null,
            "overflow_y": null,
            "padding": null,
            "right": null,
            "top": null,
            "visibility": null,
            "width": null
          }
        }
      }
    }
  },
  "nbformat": 4,
  "nbformat_minor": 0
}