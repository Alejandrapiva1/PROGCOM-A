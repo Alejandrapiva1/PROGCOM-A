{
  "nbformat": 4,
  "nbformat_minor": 0,
  "metadata": {
    "colab": {
      "provenance": []
    },
    "kernelspec": {
      "name": "python3",
      "display_name": "Python 3"
    },
    "language_info": {
      "name": "python"
    }
  },
  "cells": [
    {
      "cell_type": "code",
      "execution_count": 2,
      "metadata": {
        "colab": {
          "base_uri": "https://localhost:8080/"
        },
        "id": "VHGuF9MegIWY",
        "outputId": "7a4345a0-259f-4095-e437-a79e3de2e0a3"
      },
      "outputs": [
        {
          "output_type": "stream",
          "name": "stdout",
          "text": [
            "Es falso\n"
          ]
        }
      ],
      "source": [
        "#1. False\n",
        "#Definición: Representa un valor booleano falso.\n",
        "x = False\n",
        "if x:\n",
        "    print(\"Es verdadero\")\n",
        "else:\n",
        "    print(\"Es falso\")\n",
        "\n"
      ]
    },
    {
      "cell_type": "code",
      "source": [
        "#None\n",
        "# definicion: Representa un valor nulo o \"vacío\". Se usa comúnmente para indicar la ausencia de un valor.\n",
        "x = None\n",
        "if x is None:\n",
        "    print(\"La variable no tiene valor asignado\")\n"
      ],
      "metadata": {
        "id": "4A8tuix1iNT2"
      },
      "execution_count": null,
      "outputs": []
    },
    {
      "cell_type": "code",
      "source": [
        "#True\n",
        "#definicion:Representa un valor booleano verdadero\n",
        "x = True\n",
        "if x:\n",
        "    print(\"Es verdadero\")\n"
      ],
      "metadata": {
        "colab": {
          "base_uri": "https://localhost:8080/"
        },
        "id": "gOffiTUfiNgN",
        "outputId": "8cc30605-55fc-411f-81ae-73832073bfd8"
      },
      "execution_count": 3,
      "outputs": [
        {
          "output_type": "stream",
          "name": "stdout",
          "text": [
            "Es verdadero\n"
          ]
        }
      ]
    },
    {
      "cell_type": "code",
      "source": [
        "#And\n",
        "#Definicion: Es un operador lógico que devuelve True solo si ambas condiciones son True\n",
        "a = True\n",
        "b = False\n",
        "if a and b:\n",
        "    print(\"Ambos son verdaderos\")\n",
        "else:\n",
        "    print(\"Al menos uno es falso\")\n",
        "\n",
        "\n",
        "\n"
      ],
      "metadata": {
        "id": "qd_Lra9ciNsb"
      },
      "execution_count": null,
      "outputs": []
    },
    {
      "cell_type": "code",
      "source": [
        "#As\n",
        "#Definicion:Se usa para asignar un alias a un módulo o excepción.\n",
        "import math as m\n",
        "print(m.sqrt(16))\n"
      ],
      "metadata": {
        "id": "5EOTIGEqiNzN"
      },
      "execution_count": null,
      "outputs": []
    },
    {
      "cell_type": "code",
      "source": [
        "# Assert\n",
        "# definicion:e utiliza para probar si una condición es True. Si no es, lanza un AssertionError.\n",
        "x = 10\n",
        "assert x == 10\n",
        "assert x != 10  # Lanza un AssertionError\n"
      ],
      "metadata": {
        "id": "EJkftIrJiN3g"
      },
      "execution_count": null,
      "outputs": []
    },
    {
      "cell_type": "code",
      "source": [
        "#Break\n",
        "# definicion:Termina un bucle (como for o while).\n",
        "for i in range(10):\n",
        "    if i == 5:\n",
        "        break\n",
        "    print(i)\n"
      ],
      "metadata": {
        "id": "2qze73N6iN6n"
      },
      "execution_count": null,
      "outputs": []
    },
    {
      "cell_type": "code",
      "source": [
        "#Class\n",
        "#definicion: Se usa para definir una clase en Python.\n",
        "class Animal:\n",
        "    def hablar(self):\n",
        "        print(\"El animal hace un sonido\")\n",
        "\n",
        "mi_animal = Animal()  #\n",
        "mi_animal.hablar()\n",
        "\n"
      ],
      "metadata": {
        "colab": {
          "base_uri": "https://localhost:8080/"
        },
        "id": "y-7VGcpqiN_u",
        "outputId": "ef7ab581-ba84-4d42-ebaf-26dfb64b7c0e"
      },
      "execution_count": 9,
      "outputs": [
        {
          "output_type": "stream",
          "name": "stdout",
          "text": [
            "El animal hace un sonido\n"
          ]
        }
      ]
    },
    {
      "cell_type": "code",
      "source": [
        "#Continue\n",
        "#definicion:Omite el resto del ciclo actual y pasa al siguiente ciclo del bucle.\n",
        "for i in range(10):\n",
        "    if i % 2 == 0:\n",
        "        continue\n",
        "    print(i)  # Solo imprime los números impares\n"
      ],
      "metadata": {
        "id": "v0Ah_GVEiOCL"
      },
      "execution_count": null,
      "outputs": []
    },
    {
      "cell_type": "code",
      "source": [
        "#Def\n",
        "# definicion:Se usa para definir una función.\n",
        "def saludar(nombre):\n",
        "    print(f\"Hola {nombre}\")\n",
        "\n",
        "saludar(\"Carlos\")\n"
      ],
      "metadata": {
        "id": "ZIBMU7HNiOFe"
      },
      "execution_count": null,
      "outputs": []
    },
    {
      "cell_type": "code",
      "source": [
        "#del\n",
        "# definicion:Se usa para eliminar un objeto o una variable.\n",
        "x = 10\n",
        "del x\n"
      ],
      "metadata": {
        "id": "fl-iYNm_iOIm"
      },
      "execution_count": 11,
      "outputs": []
    },
    {
      "cell_type": "code",
      "source": [
        "# elif\n",
        "#definicion:se usa en una declaración if para verificar una segunda condición, si la primera es falsa.\n",
        "x = 20\n",
        "if x < 10:\n",
        "    print(\"Menor que 10\")\n",
        "elif x < 30:\n",
        "    print(\"Menor que 30\")\n"
      ],
      "metadata": {
        "id": "X6dS2ojeiOLP"
      },
      "execution_count": null,
      "outputs": []
    },
    {
      "cell_type": "code",
      "source": [
        "#else\n",
        "#definicion:Se usa para ejecutar una declaración cuando todas las condiciones previas no se cumplen.\n",
        "x = 50\n",
        "if x < 30:\n",
        "    print(\"Menor que 30\")\n",
        "else:\n",
        "    print(\"Mayor o igual a 30\")\n"
      ],
      "metadata": {
        "id": "W9cNwsgNkeDL"
      },
      "execution_count": null,
      "outputs": []
    },
    {
      "cell_type": "code",
      "source": [
        "#except\n",
        "#definicion:Se usa para manejar excepciones (errores) en bloques try.\n",
        "try:\n",
        "    x = 1 / 0\n",
        "except ZeroDivisionError:\n",
        "    print(\"No se puede dividir por cero\")\n"
      ],
      "metadata": {
        "colab": {
          "base_uri": "https://localhost:8080/"
        },
        "id": "tThXmCoZkeKu",
        "outputId": "c52a9377-e7e1-4d0f-9c4a-bc7039b1b22f"
      },
      "execution_count": 13,
      "outputs": [
        {
          "output_type": "stream",
          "name": "stdout",
          "text": [
            "No se puede dividir por cero\n"
          ]
        }
      ]
    },
    {
      "cell_type": "code",
      "source": [
        "# Finally\n",
        "#definicion: Se usa para ejecutar un bloque de código sin importar si ocurrió una excepción o no.\n",
        "try:\n",
        "    x = 1 / 0\n",
        "except ZeroDivisionError:\n",
        "    print(\"Error de división\")\n",
        "finally:\n",
        "    print(\"Este bloque se ejecuta siempre\")\n",
        "\n"
      ],
      "metadata": {
        "colab": {
          "base_uri": "https://localhost:8080/"
        },
        "id": "QzQNgQnrkeOT",
        "outputId": "218b8924-eac7-484b-eb96-1f98c7e30bd2"
      },
      "execution_count": 14,
      "outputs": [
        {
          "output_type": "stream",
          "name": "stdout",
          "text": [
            "Error de división\n",
            "Este bloque se ejecuta siempre\n"
          ]
        }
      ]
    },
    {
      "cell_type": "code",
      "source": [
        "# For\n",
        "# definicion: Se usa para iterar sobre una secuencia (como una lista o rango).\n",
        "for i in range(5):\n",
        "    print(i)\n"
      ],
      "metadata": {
        "id": "yrRSLAjPkeVP"
      },
      "execution_count": null,
      "outputs": []
    },
    {
      "cell_type": "code",
      "source": [
        "#From\n",
        "# definicion:Se usa para importar una función, clase o variable de un módulo específico.\n",
        "from math import sqrt\n",
        "print(sqrt(16))\n"
      ],
      "metadata": {
        "id": "mi-e1nrZkeYe"
      },
      "execution_count": null,
      "outputs": []
    },
    {
      "cell_type": "code",
      "source": [
        "#global\n",
        "#definicion:Se usa para declarar que una variable dentro de una función se refiere a la variable global.\n",
        "x = 10\n",
        "def cambiar_valor():\n",
        "    global x\n",
        "    x = 20\n",
        "cambiar_valor()\n",
        "print(x)  # Imprime 20\n",
        "\n"
      ],
      "metadata": {
        "id": "zivjyBxwkebW"
      },
      "execution_count": null,
      "outputs": []
    },
    {
      "cell_type": "code",
      "source": [
        "#if\n",
        "#definicion:Se usa para realizar una comparación condicional.\n",
        "x = 10\n",
        "if x > 5:\n",
        "    print(\"Mayor que 5\")\n",
        "\n"
      ],
      "metadata": {
        "id": "xpf83jftk46b"
      },
      "execution_count": null,
      "outputs": []
    },
    {
      "cell_type": "code",
      "source": [
        "#Import\n",
        "#definicion:Se usa para importar módulos o bibliotecas.\n",
        "import math\n",
        "print(math.sqrt(16))\n",
        "\n"
      ],
      "metadata": {
        "id": "JH1pYsYNk491"
      },
      "execution_count": null,
      "outputs": []
    },
    {
      "cell_type": "code",
      "source": [
        "#In\n",
        "#definicion:Se usa para verificar si un valor está presente en una secuencia (como una lista, tupla, etc.)\n",
        "x = [1, 2, 3, 4]\n",
        "if 3 in x:\n",
        "    print(\"El número 3 está en la lista\")\n"
      ],
      "metadata": {
        "id": "s8O9J_pck5BQ"
      },
      "execution_count": null,
      "outputs": []
    },
    {
      "cell_type": "code",
      "source": [
        "#is\n",
        "# definicion:e usa para verificar si dos objetos son idénticos (en términos de referencia de memoria).\n",
        "a = [1, 2, 3]\n",
        "b = a\n",
        "if a is b:\n",
        "    print(\"Son el mismo objeto\")\n"
      ],
      "metadata": {
        "id": "muEEIsOxk5EI"
      },
      "execution_count": null,
      "outputs": []
    },
    {
      "cell_type": "code",
      "source": [
        "#Lambda\n",
        "#definicion:Se usa para crear funciones anónimas\n",
        "sumar = lambda a, b: a + b\n",
        "print(sumar(5, 3))  # Imprime 8\n"
      ],
      "metadata": {
        "id": "m6hToOg-rFvs"
      },
      "execution_count": null,
      "outputs": []
    },
    {
      "cell_type": "code",
      "source": [
        "#nonlocal\n",
        "#definicion: Se usa para declarar que una variable está en un ámbito superior al de la función.\n",
        "def contador():\n",
        "    x = 0\n",
        "    def incrementar():\n",
        "        nonlocal x\n",
        "        x += 1\n",
        "    incrementar()\n",
        "    print(x)  # Imprime 1\n",
        "contador()\n"
      ],
      "metadata": {
        "id": "P9yaMMsprF2f"
      },
      "execution_count": null,
      "outputs": []
    },
    {
      "cell_type": "code",
      "source": [
        "#not\n",
        "#definicion:Operador lógico que invierte el valor de una condición.\n",
        "x = True\n",
        "if not x:\n",
        "    print(\"Es falso\")\n",
        "else:\n",
        "    print(\"Es verdadero\")\n",
        "\n"
      ],
      "metadata": {
        "id": "jiME7kGmrF5X"
      },
      "execution_count": null,
      "outputs": []
    },
    {
      "cell_type": "code",
      "source": [
        "#Or\n",
        "#definicion:Operador lógico que devuelve True si al menos una de las condiciones es True.\n",
        "x = True\n",
        "y = False\n",
        "if x or y:\n",
        "    print(\"Al menos una condición es verdadera\")\n"
      ],
      "metadata": {
        "colab": {
          "base_uri": "https://localhost:8080/"
        },
        "id": "WXl4VWAFrF8C",
        "outputId": "14b24417-031f-427b-8835-3ecf95198ccb"
      },
      "execution_count": 15,
      "outputs": [
        {
          "output_type": "stream",
          "name": "stdout",
          "text": [
            "Al menos una condición es verdadera\n"
          ]
        }
      ]
    },
    {
      "cell_type": "code",
      "source": [
        "#Pass\n",
        "#definicion:Se usa como un marcador de posición. No hace nada y se utiliza cuando se requiere sintaxis pero no se desea ejecutar código.\n",
        "def funcion_vacia():\n",
        "    pass\n"
      ],
      "metadata": {
        "id": "xvDqgTt8rF-V"
      },
      "execution_count": 16,
      "outputs": []
    },
    {
      "cell_type": "code",
      "source": [
        "#raise\n",
        "#definicion:Se usa para generar una excepción de forma manual.\n",
        "raise ValueError(\"Un error ocurrió\")\n"
      ],
      "metadata": {
        "id": "ScOnZdCKrGBu"
      },
      "execution_count": null,
      "outputs": []
    },
    {
      "cell_type": "code",
      "source": [
        "#Return\n",
        "#definicion:Se usa para devolver un valor desde una función.\n",
        "def suma(a, b):\n",
        "    return a + b\n",
        "print(suma(3, 5))\n"
      ],
      "metadata": {
        "colab": {
          "base_uri": "https://localhost:8080/"
        },
        "id": "aXAqpJuXrGDz",
        "outputId": "fc460d75-7006-4df8-c08c-130970282d8f"
      },
      "execution_count": 17,
      "outputs": [
        {
          "output_type": "stream",
          "name": "stdout",
          "text": [
            "8\n"
          ]
        }
      ]
    },
    {
      "cell_type": "code",
      "source": [
        "#Try\n",
        "#definicion:Se utiliza para manejar errores que pueden ocurrir durante la ejecución del código. El bloque try intenta ejecutar un código y si ocurre un error, el bloque except maneja ese error.\n",
        "try:\n",
        "    numero = int(input(\"Ingresa un número: \"))\n",
        "    resultado = 10 / numero\n",
        "    print(f\"El resultado de la división es: {resultado}\")\n",
        "except ValueError:\n",
        "    print(\"¡Eso no es un número válido!\")\n",
        "except ZeroDivisionError:\n",
        "    print(\"¡No puedes dividir entre cero!\")\n"
      ],
      "metadata": {
        "id": "iYLe6tyRt89Y"
      },
      "execution_count": null,
      "outputs": []
    },
    {
      "cell_type": "code",
      "source": [
        "#case\n",
        "#definicion:Se usa para comparar un valor con diferentes patrones y ejecutar el código correspondiente según el caso que coincida.\n",
        "def identificar_color(color):\n",
        "    match color:\n",
        "        case \"rojo\":\n",
        "            print(\"El color es rojo.\")\n",
        "        case \"azul\":\n",
        "            print(\"El color es azul.\")\n",
        "        case \"verde\":\n",
        "            print(\"El color es verde.\")\n",
        "        case _:\n",
        "            print(\"Color no reconocido.\")\n",
        "\n",
        "identificar_color(\"azul\")\n"
      ],
      "metadata": {
        "colab": {
          "base_uri": "https://localhost:8080/"
        },
        "id": "J-8wRz9bZDdx",
        "outputId": "a1d15121-21b6-45e5-cabd-33cdc8f2a258"
      },
      "execution_count": 5,
      "outputs": [
        {
          "output_type": "stream",
          "name": "stdout",
          "text": [
            "El color es azul.\n"
          ]
        }
      ]
    },
    {
      "cell_type": "code",
      "source": [
        "#match\n",
        "#Definicion:Se usa para comparar un valor con múltiples patrones definidos por case\n",
        "def clasificar(animal):\n",
        "  def clasificar(animal):\n",
        "    match animal:\n",
        "        case \"perro\" | \"gato\" | \"conejo\": print(\"Es un mamífero.\")\n",
        "        case \"águila\" | \"loro\" | \"halcón\" | \"serpiente\" | \"cocodrilo\" | \"tortuga\": print(\"Es un ave o reptil.\")\n",
        "        case _: print(\"Animal no reconocido.\")\n",
        "\n",
        "clasificar(\"loro\")\n",
        "clasificar(\"perro\")\n",
        "clasificar(\"delfín\")\n",
        "\n"
      ],
      "metadata": {
        "id": "HJ7G1cPvZjkN"
      },
      "execution_count": 4,
      "outputs": []
    }
  ]
}