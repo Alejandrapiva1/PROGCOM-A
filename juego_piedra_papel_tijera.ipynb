{
  "nbformat": 4,
  "nbformat_minor": 0,
  "metadata": {
    "colab": {
      "provenance": []
    },
    "kernelspec": {
      "name": "python3",
      "display_name": "Python 3"
    },
    "language_info": {
      "name": "python"
    }
  },
  "cells": [
    {
      "cell_type": "code",
      "execution_count": 6,
      "metadata": {
        "colab": {
          "base_uri": "https://localhost:8080/"
        },
        "id": "ggP5svs72HhE",
        "outputId": "e18baae2-2d9f-4be1-9eb5-821e90d9d9b2"
      },
      "outputs": [
        {
          "output_type": "stream",
          "name": "stdout",
          "text": [
            "Jugador 1, ¿cuál es tu nombre? alejandra\n",
            "Jugador 2, ¿cuál es tu nombre? dylan\n",
            "alejandra, elige una opción de las siguientes: piedra, papel, tijeras, spock, lagarto, fuego, agua, aire, rayo: rayo\n",
            "\n",
            "dylan, ahora es tu turno. Elige una opción: piedra, papel, tijeras, spock, lagarto, fuego, agua, aire, rayo\n",
            "dylan, elige una opción: aire\n",
            "\n",
            "alejandra eligió: rayo\n",
            "dylan eligió: aire\n",
            "¡aire gana! 😢\n"
          ]
        }
      ],
      "source": [
        "import random\n",
        "\n",
        "def determinar_ganador(jugador1, jugador2):\n",
        "    reglas = {\n",
        "        \"piedra\": [\"tijeras\", \"lagarto\", \"fuego\"],\n",
        "        \"papel\": [\"piedra\", \"agua\", \"aire\"],\n",
        "        \"tijeras\": [\"papel\", \"lagarto\", \"aire\"],\n",
        "        \"spock\": [\"tijeras\", \"piedra\", \"rayo\"],\n",
        "        \"lagarto\": [\"spock\", \"papel\", \"agua\"],\n",
        "        \"fuego\": [\"papel\", \"lagarto\", \"aire\"],\n",
        "        \"agua\": [\"fuego\", \"piedra\", \"rayo\"],\n",
        "        \"aire\": [\"agua\", \"spock\", \"rayo\"],\n",
        "        \"rayo\": [\"tijeras\", \"fuego\", \"piedra\"]\n",
        "    }\n",
        "\n",
        "    return (lambda j1, j2: \"¡Empate!\" if j1 == j2 else \"¡\" + jugador1 + \" gana! 😊\" if j2 in reglas[j1] else \"¡\" + jugador2 + \" gana! 😢\")(jugador1, jugador2)\n",
        "\n",
        "\n",
        "opciones = [\"piedra\", \"papel\", \"tijeras\", \"spock\", \"lagarto\", \"fuego\", \"agua\", \"aire\", \"rayo\"]\n",
        "\n",
        "jugador1_nombre = input(\"Jugador 1, ¿cuál es tu nombre? \").strip()\n",
        "jugador2_nombre = input(\"Jugador 2, ¿cuál es tu nombre? \").strip()\n",
        "\n",
        "\n",
        "jugador1 = input(f\"{jugador1_nombre}, elige una opción de las siguientes: {', '.join(opciones)}: \").strip().lower()\n",
        "\n",
        "\n",
        "validar = lambda opcion: opcion in opciones\n",
        "jugador1_valido = validar(jugador1)\n",
        "\n",
        "if not jugador1_valido:\n",
        "    print(\"Opción no válida. Intenta de nuevo.\")\n",
        "else:\n",
        "\n",
        "    print(f\"\\n{jugador2_nombre}, ahora es tu turno. Elige una opción: {', '.join(opciones)}\")\n",
        "    jugador2 = input(f\"{jugador2_nombre}, elige una opción: \").strip().lower()\n",
        "\n",
        "\n",
        "    jugador2_valido = validar(jugador2)\n",
        "\n",
        "    if not jugador2_valido:\n",
        "        print(\"Opción no válida. Intenta de nuevo.\")\n",
        "    else:\n",
        "\n",
        "        resultado = determinar_ganador(jugador1, jugador2)\n",
        "        print(f\"\\n{jugador1_nombre} eligió: {jugador1}\")\n",
        "        print(f\"{jugador2_nombre} eligió: {jugador2}\")\n",
        "        print(resultado)\n",
        "\n"
      ]
    }
  ]
}