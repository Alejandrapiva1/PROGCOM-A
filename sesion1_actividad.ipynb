{
  "nbformat": 4,
  "nbformat_minor": 0,
  "metadata": {
    "colab": {
      "provenance": []
    },
    "kernelspec": {
      "name": "python3",
      "display_name": "Python 3"
    },
    "language_info": {
      "name": "python"
    }
  },
  "cells": [
    {
      "cell_type": "markdown",
      "source": [
        "Alejandra del Rocio Piva Nuñez\n"
      ],
      "metadata": {
        "id": "QamQyEuPhFPj"
      }
    },
    {
      "cell_type": "code",
      "execution_count": 2,
      "metadata": {
        "colab": {
          "base_uri": "https://localhost:8080/"
        },
        "id": "WYDxBchwg16-",
        "outputId": "093ec8a8-c57b-44ff-eeb6-667ccce41cfa"
      },
      "outputs": [
        {
          "output_type": "stream",
          "name": "stdout",
          "text": [
            "Ingresa un número: 3\n",
            "El número 3 es impar.\n"
          ]
        }
      ],
      "source": [
        "6# determine si un numero es par o impar\n",
        "num = int(input('Ingresa un número: '))\n",
        "\n",
        "if num % 2 == 0:\n",
        "    print(f'El número {num} es par.')\n",
        "else:\n",
        "    print(f'El número {num} es impar.')\n",
        "\n",
        "\n"
      ]
    },
    {
      "cell_type": "code",
      "source": [
        "#7 determinar si un año es bisiestro\n",
        "año = int(input('Ingresa un año: '))\n",
        "\n",
        "if (año % 4 == 0 and año % 100 != 0) or (año % 400 == 0):\n",
        "    print(f'El año {año} es bisiesto.')\n",
        "else:\n",
        "    print(f'El año {año} no es bisiesto.')"
      ],
      "metadata": {
        "colab": {
          "base_uri": "https://localhost:8080/"
        },
        "id": "rcwmOkNOh9us",
        "outputId": "305dd957-a1d2-4fdd-ad29-3998490ab2c9"
      },
      "execution_count": 3,
      "outputs": [
        {
          "output_type": "stream",
          "name": "stdout",
          "text": [
            "Ingresa un año: 2004\n",
            "El año 2004 es bisiesto.\n"
          ]
        }
      ]
    },
    {
      "cell_type": "code",
      "source": [
        "# 8 determinar si una persona pertenece a la tercera edad\n",
        "n = input('Ingresa tu nombre: ')\n",
        "e = int(input('Ingresa tu edad: '))\n",
        "\n",
        "if e >= 70:\n",
        "    print(f'{n}, se le da prioridad en la fila.')\n",
        "else:\n",
        "    print(f'{n}, no tiene prioridad en la fila.')"
      ],
      "metadata": {
        "colab": {
          "base_uri": "https://localhost:8080/"
        },
        "id": "JHagCeJTiTnM",
        "outputId": "8e663315-420a-4054-c845-2f3451c0ac22"
      },
      "execution_count": 4,
      "outputs": [
        {
          "output_type": "stream",
          "name": "stdout",
          "text": [
            "Ingresa tu nombre: alejandra¨´\n",
            "Ingresa tu edad: 18\n",
            "alejandra¨´, no tiene prioridad en la fila.\n"
          ]
        }
      ]
    },
    {
      "cell_type": "code",
      "source": [
        "2# 9 comparar 3 numeros y determinar el mayor\n",
        "n1 = float(input('Ingresa el primer número: '))\n",
        "n2 = float(input('Ingresa el segundo número: '))\n",
        "n3 = float(input('Ingresa el tercer número: '))\n",
        "\n",
        "if n1 > n2 and n1 > n3:\n",
        "    print(f'El número mayor es {n1}')\n",
        "elif n2 > n1 and n2 > n3:\n",
        "    print(f'El número mayor es {n2}')\n",
        "elif n3 > n1 and n3 > n2:\n",
        "    print(f'El número mayor es {n3}')\n"
      ],
      "metadata": {
        "colab": {
          "base_uri": "https://localhost:8080/"
        },
        "id": "iW7sQ5V8ixVa",
        "outputId": "8fa8c213-4ad4-468a-e835-f933810ccac9"
      },
      "execution_count": 6,
      "outputs": [
        {
          "output_type": "stream",
          "name": "stdout",
          "text": [
            "Ingresa el primer número: 2\n",
            "Ingresa el segundo número: 3\n",
            "Ingresa el tercer número: 4\n",
            "El número mayor es 4.0\n"
          ]
        }
      ]
    },
    {
      "cell_type": "code",
      "source": [
        "#10 determinar el triangulo segun sus lados\n",
        "l1 = float(input('Ingresa el primer lado: '))\n",
        "l2 = float(input('Ingresa el segundo lado: '))\n",
        "l3 = float(input('Ingresa el tercer lado: '))\n",
        "\n",
        "if l1 == l2 == l3:\n",
        "    print(f'El triángulo con lados {l1}, {l2} y {l3} equilátero.')\n",
        "elif l1 == l2 or lado1 == l3 or l2 == l3:\n",
        "    print(f'El triángulo con lados {l1}, {l2} y {l3}  isósceles.')\n",
        "else:\n",
        "    print(f'El triángulo con lados {l1}, {l2} y {l3} escaleno.')"
      ],
      "metadata": {
        "colab": {
          "base_uri": "https://localhost:8080/"
        },
        "id": "tKMAnUaGjq2O",
        "outputId": "4bf9297a-7ebe-471c-9620-06266f41dbff"
      },
      "execution_count": 7,
      "outputs": [
        {
          "output_type": "stream",
          "name": "stdout",
          "text": [
            "Ingresa el primer lado: 23\n",
            "Ingresa el segundo lado: 23\n",
            "Ingresa el tercer lado: 45\n",
            "El triángulo con lados 23.0, 23.0 y 45.0  isósceles.\n"
          ]
        }
      ]
    }
  ]
}