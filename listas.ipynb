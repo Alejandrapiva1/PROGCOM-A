{
  "nbformat": 4,
  "nbformat_minor": 0,
  "metadata": {
    "colab": {
      "provenance": []
    },
    "kernelspec": {
      "name": "python3",
      "display_name": "Python 3"
    },
    "language_info": {
      "name": "python"
    }
  },
  "cells": [
    {
      "cell_type": "markdown",
      "source": [
        "ejercicios del 15 al 25"
      ],
      "metadata": {
        "id": "unL8H7pysF-u"
      }
    },
    {
      "cell_type": "markdown",
      "source": [
        "Alejandra Piva, U00182258, profe con los otros no me dio la mente:"
      ],
      "metadata": {
        "id": "zlbMLGPhydo4"
      }
    },
    {
      "cell_type": "code",
      "execution_count": 12,
      "metadata": {
        "colab": {
          "base_uri": "https://localhost:8080/",
          "height": 0
        },
        "id": "G5IBFZVSsEUw",
        "outputId": "a7b2441c-03d8-41ce-9b63-596db5ff61d3"
      },
      "outputs": [
        {
          "output_type": "stream",
          "name": "stdout",
          "text": [
            "Ingresa el primer lado: 34\n",
            "Ingresa el segundo lado: 34\n",
            "Ingresa el tercer lado: 45\n",
            "Es un triángulo isósceles\n"
          ]
        }
      ],
      "source": [
        "#15\n",
        "\n",
        "def triangulo(a, b, c):\n",
        "    lados = sorted([a, b, c])\n",
        "\n",
        "    if lados[0] + lados[1] > lados[2]:\n",
        "        if a == b == c:\n",
        "            return \"Es un triángulo equilátero\"\n",
        "        elif a == b or a == c or b == c:\n",
        "            return \"Es un triángulo isósceles\"\n",
        "        else:\n",
        "            return \"Es un triángulo escaleno\"\n",
        "\n",
        "    return \"No es un triángulo válido\"\n",
        "\n",
        "a = float(input(\"Ingresa el primer lado: \"))\n",
        "b = float(input(\"Ingresa el segundo lado: \"))\n",
        "c = float(input(\"Ingresa el tercer lado: \"))\n",
        "\n",
        "print(triangulo(a, b, c))\n"
      ]
    },
    {
      "cell_type": "code",
      "source": [
        "#16\n",
        "def tabla(num):\n",
        "    for i in range(1, 11):\n",
        "        print(f\"{num} x {i} = {num * i}\")\n",
        "\n",
        "num = int(input(\"Ingresa un número: \"))\n",
        "tabla(num)\n"
      ],
      "metadata": {
        "colab": {
          "base_uri": "https://localhost:8080/",
          "height": 0
        },
        "id": "ysoe09DhsUn4",
        "outputId": "94bb9f82-8da7-40c9-a951-b8124dd3855c",
        "collapsed": true
      },
      "execution_count": 18,
      "outputs": [
        {
          "output_type": "stream",
          "name": "stdout",
          "text": [
            "Ingresa un número: 7\n",
            "7 x 1 = 7\n",
            "7 x 2 = 14\n",
            "7 x 3 = 21\n",
            "7 x 4 = 28\n",
            "7 x 5 = 35\n",
            "7 x 6 = 42\n",
            "7 x 7 = 49\n",
            "7 x 8 = 56\n",
            "7 x 9 = 63\n",
            "7 x 10 = 70\n"
          ]
        }
      ]
    },
    {
      "cell_type": "code",
      "source": [
        "#17\n",
        "def naturales(n):\n",
        "    suma = 0\n",
        "    for i in range(1, n + 1):\n",
        "        suma += i\n",
        "    return suma\n",
        "\n",
        "n = int(input(\"Ingresa un número: \"))\n",
        "print(f\"La suma de los números naturales hasta {n} es: {naturales(n)}\")\n"
      ],
      "metadata": {
        "id": "z2Jk_Yj1uegE"
      },
      "execution_count": null,
      "outputs": []
    },
    {
      "cell_type": "code",
      "source": [
        "#18\n",
        "def factorial(n):\n",
        "    if n < 0:\n",
        "        return \"No existe factorial de números negativos\"\n",
        "\n",
        "    resultado = 1\n",
        "    for i in range(2, n + 1):\n",
        "        resultado *= i\n",
        "    return resultado\n",
        "\n",
        "n = int(input(\"Ingresa un número: \"))\n",
        "print(f\"El factorial de {n} es: {factorial(n)}\")\n"
      ],
      "metadata": {
        "colab": {
          "base_uri": "https://localhost:8080/",
          "height": 0
        },
        "id": "MOL4_iv8vcd_",
        "outputId": "b298aa4a-eeb1-4f37-f998-dc498ef9d9b1"
      },
      "execution_count": 26,
      "outputs": [
        {
          "output_type": "stream",
          "name": "stdout",
          "text": [
            "Ingresa un número: 8\n",
            "El factorial de 8 es: 40320\n"
          ]
        }
      ]
    },
    {
      "cell_type": "code",
      "source": [
        "#19\n",
        "def fibonacci(n):\n",
        "    a, b = 0, 1\n",
        "    fib = []\n",
        "    for i in range(n):\n",
        "        fib.append(a)\n",
        "        a, b = b, a + b\n",
        "    return fib\n",
        "\n",
        "n = int(input(\"¿Cuántos números de Fibonacci quieres ver?: \"))\n",
        "print(fibonacci(n))\n"
      ],
      "metadata": {
        "colab": {
          "base_uri": "https://localhost:8080/",
          "height": 0
        },
        "id": "vEoqrLwExAss",
        "outputId": "a12c8dbd-f935-4bff-ba0d-9b08457cacc0"
      },
      "execution_count": 25,
      "outputs": [
        {
          "output_type": "stream",
          "name": "stdout",
          "text": [
            "¿Cuántos números de Fibonacci quieres ver?: 8\n",
            "[0, 1, 1, 2, 3, 5, 8, 13]\n"
          ]
        }
      ]
    },
    {
      "cell_type": "code",
      "source": [],
      "metadata": {
        "id": "6xXH4rD1xa56"
      },
      "execution_count": null,
      "outputs": []
    },
    {
      "cell_type": "code",
      "source": [
        "#21\n",
        "def pares():\n",
        "    pares = []\n",
        "    for n in range(2, 102,2):\n",
        "        pares.append(n)\n",
        "    return pares\n",
        "\n",
        "print(pares())\n"
      ],
      "metadata": {
        "colab": {
          "base_uri": "https://localhost:8080/",
          "height": 0
        },
        "id": "4YkhJCVmvsnJ",
        "outputId": "a322ac2c-0441-456d-977b-d14edb8143e9"
      },
      "execution_count": 24,
      "outputs": [
        {
          "output_type": "stream",
          "name": "stdout",
          "text": [
            "[2, 4, 6, 8, 10, 12, 14, 16, 18, 20, 22, 24, 26, 28, 30, 32, 34, 36, 38, 40, 42, 44, 46, 48, 50, 52, 54, 56, 58, 60, 62, 64, 66, 68, 70, 72, 74, 76, 78, 80, 82, 84, 86, 88, 90, 92, 94, 96, 98, 100]\n"
          ]
        }
      ]
    },
    {
      "cell_type": "code",
      "source": [],
      "metadata": {
        "id": "KURlnMygwjg5"
      },
      "execution_count": null,
      "outputs": []
    },
    {
      "cell_type": "code",
      "source": [],
      "metadata": {
        "id": "Fr1bk-jZ0bSw"
      },
      "execution_count": null,
      "outputs": []
    }
  ]
}