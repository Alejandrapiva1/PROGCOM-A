{
  "nbformat": 4,
  "nbformat_minor": 0,
  "metadata": {
    "colab": {
      "provenance": []
    },
    "kernelspec": {
      "name": "python3",
      "display_name": "Python 3"
    },
    "language_info": {
      "name": "python"
    }
  },
  "cells": [
    {
      "cell_type": "markdown",
      "source": [
        "Alejandra piva U00182258\n",
        "Diccionarios"
      ],
      "metadata": {
        "id": "dzvALqiZPkL2"
      }
    },
    {
      "cell_type": "code",
      "execution_count": 2,
      "metadata": {
        "colab": {
          "base_uri": "https://localhost:8080/"
        },
        "id": "lnNOGF3xPji7",
        "outputId": "d845458e-372a-461d-978d-21b1b2e435ed"
      },
      "outputs": [
        {
          "output_type": "stream",
          "name": "stdout",
          "text": [
            "Lado 1: 5\n",
            "Lado 2: 5\n",
            "Lado 3: 5\n",
            "Los lados [5, 5, 5] forman un triángulo Equilátero.\n"
          ]
        }
      ],
      "source": [
        "def triangulo(a, b, c):\n",
        "    triangulo = {\"lados\": [a, b, c]}\n",
        "\n",
        "    lados = sorted(triangulo[\"lados\"])\n",
        "    if lados[0] + lados[1] > lados[2]:\n",
        "        if a == b == c:\n",
        "            triangulo[\"tipo\"] = \"Equilátero\"\n",
        "        elif a == b or a == c or b == c:\n",
        "            triangulo[\"tipo\"] = \"Isósceles\"\n",
        "        else:\n",
        "            triangulo[\"tipo\"] = \"Escaleno\"\n",
        "    else:\n",
        "        triangulo[\"tipo\"] = \"No válido\"\n",
        "\n",
        "    return triangulo\n",
        "\n",
        "a = int(input(\"Lado 1: \"))\n",
        "b = int(input(\"Lado 2: \"))\n",
        "c = int(input(\"Lado 3: \"))\n",
        "\n",
        "resultado = triangulo(a, b, c)\n",
        "print(f\"Los lados {resultado['lados']} forman un triángulo {resultado['tipo']}.\")\n"
      ]
    },
    {
      "cell_type": "code",
      "source": [
        "def tabla(n):\n",
        "    tabla = {\"número\": n, \"resultados\": []}\n",
        "\n",
        "    for i in range(1, 11):\n",
        "        tabla[\"resultados\"].append(f\"{n} x {i} = {n * i}\")\n",
        "\n",
        "    return tabla\n",
        "\n",
        "num = int(input(\"Número para la tabla de multiplicar: \"))\n",
        "resultado = tabla(num)\n",
        "\n",
        " print(resultado)\n"
      ],
      "metadata": {
        "colab": {
          "base_uri": "https://localhost:8080/",
          "height": 110
        },
        "id": "I_HnSHeuQO9M",
        "outputId": "09dac181-29de-4875-be97-b9bf3eb99b06"
      },
      "execution_count": 3,
      "outputs": [
        {
          "output_type": "error",
          "ename": "IndentationError",
          "evalue": "unexpected indent (<ipython-input-3-a84a1d9a6dcf>, line 12)",
          "traceback": [
            "\u001b[0;36m  File \u001b[0;32m\"<ipython-input-3-a84a1d9a6dcf>\"\u001b[0;36m, line \u001b[0;32m12\u001b[0m\n\u001b[0;31m    print(resultado)\u001b[0m\n\u001b[0m    ^\u001b[0m\n\u001b[0;31mIndentationError\u001b[0m\u001b[0;31m:\u001b[0m unexpected indent\n"
          ]
        }
      ]
    },
    {
      "cell_type": "code",
      "source": [
        "def suma_naturales(n):\n",
        "    suma = {\"número\": n, \"suma\": sum(range(1, n + 1))}\n",
        "    return suma\n",
        "n = int(input(\"Número hasta donde sumar: \"))\n",
        "resultado = suma_naturales(n)\n",
        "\n",
        "print(f\"La suma de los números naturales hasta {resultado['número']} es {resultado['suma']}.\")\n"
      ],
      "metadata": {
        "colab": {
          "base_uri": "https://localhost:8080/"
        },
        "id": "5UYHbz9nQ20K",
        "outputId": "eace9abe-dee3-447b-9bcb-c9839e5d3e91"
      },
      "execution_count": 4,
      "outputs": [
        {
          "output_type": "stream",
          "name": "stdout",
          "text": [
            "Número hasta donde sumar: 8\n",
            "La suma de los números naturales hasta 8 es 36.\n"
          ]
        }
      ]
    },
    {
      "cell_type": "code",
      "source": [
        "def calcular_factorial(n):\n",
        "    factorial = 1\n",
        "    for i in range(1, n + 1):\n",
        "        factorial *= i\n",
        "\n",
        "    return {\"número\": n, \"factorial\": factorial}\n",
        "\n",
        "n = int(input(\"Número para calcular el factorial: \"))\n",
        "resultado = calcular_factorial(n)\n",
        "\n",
        "print(f\"El factorial de {resultado['número']} es {resultado['factorial']}.\")\n"
      ],
      "metadata": {
        "id": "XpiqZBgCRDCv"
      },
      "execution_count": null,
      "outputs": []
    },
    {
      "cell_type": "code",
      "source": [
        "def fibonacci(n):\n",
        "    serie = {\"cantidad\": n, \"fibonacci\": []}\n",
        "    a, b = 0, 1\n",
        "\n",
        "    for _ in range(n):\n",
        "        serie[\"fibonacci\"].append(a)\n",
        "        a, b = b, a + b\n",
        "\n",
        "    return serie\n",
        "\n",
        "n = int(input(\"Cantidad de números en la serie Fibonacci: \"))\n",
        "resultado = fibonacci(n)\n",
        "\n",
        "print(f\"Los primeros {resultado['cantidad']} números de Fibonacci son: {resultado['fibonacci']}\")\n"
      ],
      "metadata": {
        "id": "xHsgMt2yRKU3"
      },
      "execution_count": null,
      "outputs": []
    },
    {
      "cell_type": "code",
      "source": [
        "def pares():\n",
        "    pares = {\"rango\": \"1-100\", \"pares\": [i for i in range(2, 101, 2)]}\n",
        "    return pares\n",
        "\n",
        "resultado = pares()\n",
        "print(f\"Números pares del {resultado['rango']}: {resultado['pares']}\")\n"
      ],
      "metadata": {
        "colab": {
          "base_uri": "https://localhost:8080/"
        },
        "id": "uhfKVrH4RSCR",
        "outputId": "bb21b699-4b12-479b-f050-0fc12f747dcb"
      },
      "execution_count": 5,
      "outputs": [
        {
          "output_type": "stream",
          "name": "stdout",
          "text": [
            "Números pares del 1-100: [2, 4, 6, 8, 10, 12, 14, 16, 18, 20, 22, 24, 26, 28, 30, 32, 34, 36, 38, 40, 42, 44, 46, 48, 50, 52, 54, 56, 58, 60, 62, 64, 66, 68, 70, 72, 74, 76, 78, 80, 82, 84, 86, 88, 90, 92, 94, 96, 98, 100]\n"
          ]
        }
      ]
    },
    {
      "cell_type": "code",
      "source": [
        "def triangulo(n):\n",
        "    patron = {\"altura\": n, \"patron\": []}\n",
        "\n",
        "    for i in range(1, n + 1):\n",
        "        patron[\"patron\"].append(\"*\" * i)\n",
        "\n",
        "    return patron\n",
        "\n",
        "n = int(input(\"Altura del triángulo: \"))\n",
        "resultado = triangulo(n)\n",
        "\n",
        "for linea in resultado[\"patron\"]:\n",
        "    print(linea)\n"
      ],
      "metadata": {
        "colab": {
          "base_uri": "https://localhost:8080/"
        },
        "id": "VatzWIlsYSz9",
        "outputId": "82c29981-ad19-48c6-ee3e-c31f69289f3f"
      },
      "execution_count": 7,
      "outputs": [
        {
          "output_type": "stream",
          "name": "stdout",
          "text": [
            "Altura del triángulo: 4\n",
            "*\n",
            "**\n",
            "***\n",
            "****\n"
          ]
        }
      ]
    },
    {
      "cell_type": "code",
      "source": [
        "def potencia(base, exponente):\n",
        "    resultado = 1\n",
        "    for _ in range((exponente)):\n",
        "        resultado *= base\n",
        "\n",
        "    if exponente < 0:\n",
        "        resultado = 1 / resultado\n",
        "\n",
        "    return {\"base\": base, \"exponente\": exponente, \"resultado\": resultado}\n",
        "\n",
        "base = int(input(\"Base: \"))\n",
        "exponente = int(input(\"Exponente: \"))\n",
        "\n",
        "resultado = potencia(base, exponente)\n",
        "print(f\"{resultado['base']} elevado a {resultado['exponente']} es {resultado['resultado']}.\")\n"
      ],
      "metadata": {
        "colab": {
          "base_uri": "https://localhost:8080/"
        },
        "id": "Crg77tnEYc2Z",
        "outputId": "01e92b00-358d-4bbd-e0c6-a2a8dd8e6025"
      },
      "execution_count": 8,
      "outputs": [
        {
          "output_type": "stream",
          "name": "stdout",
          "text": [
            "Base: 4\n",
            "Exponente: 5\n",
            "4 elevado a 5 es 1024.\n"
          ]
        }
      ]
    }
  ]
}