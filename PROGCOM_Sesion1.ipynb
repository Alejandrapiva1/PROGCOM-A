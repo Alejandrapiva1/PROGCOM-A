{
  "nbformat": 4,
  "nbformat_minor": 0,
  "metadata": {
    "colab": {
      "provenance": []
    },
    "kernelspec": {
      "name": "python3",
      "display_name": "Python 3"
    },
    "language_info": {
      "name": "python"
    }
  },
  "cells": [
    {
      "cell_type": "markdown",
      "source": [
        "PYTHON. INTRODUCCION\n",
        "input: asigana/lee/imprime\n",
        "print:imprimir lo que se encuentra dentro de los parametros\n",
        "type:identifica el tipo de dato ingresado en parentesis\n",
        "\\n:genera nuevas lineas"
      ],
      "metadata": {
        "id": "sreGkg_zipv4"
      }
    },
    {
      "cell_type": "code",
      "source": [
        "a=input('hola,como te llamas')"
      ],
      "metadata": {
        "colab": {
          "base_uri": "https://localhost:8080/"
        },
        "id": "3EOTzodjixp1",
        "outputId": "7afd5320-e954-4826-98aa-b213abcb8bf3"
      },
      "execution_count": null,
      "outputs": [
        {
          "name": "stdout",
          "output_type": "stream",
          "text": [
            "hola,como te llamasalejandra\n"
          ]
        }
      ]
    },
    {
      "cell_type": "code",
      "source": [
        "a"
      ],
      "metadata": {
        "colab": {
          "base_uri": "https://localhost:8080/",
          "height": 36
        },
        "id": "mRF7X8AgkHpz",
        "outputId": "1071a595-eff3-4849-fe19-1289158b8475"
      },
      "execution_count": null,
      "outputs": [
        {
          "output_type": "execute_result",
          "data": {
            "text/plain": [
              "'alejandra'"
            ],
            "application/vnd.google.colaboratory.intrinsic+json": {
              "type": "string"
            }
          },
          "metadata": {},
          "execution_count": 2
        }
      ]
    },
    {
      "cell_type": "code",
      "source": [
        "type(a)"
      ],
      "metadata": {
        "id": "FRbfQH2-kI8g"
      },
      "execution_count": null,
      "outputs": []
    },
    {
      "cell_type": "code",
      "source": [
        "años=input('hola '+a+'cuantos años tienes?')"
      ],
      "metadata": {
        "id": "-MhaIUaSkV2i"
      },
      "execution_count": null,
      "outputs": []
    },
    {
      "cell_type": "code",
      "source": [
        "altura=input(f'{a} cuanto mides?')\n"
      ],
      "metadata": {
        "id": "zmS6F8Tbr6Xg"
      },
      "execution_count": null,
      "outputs": []
    },
    {
      "cell_type": "code",
      "source": [
        "print(f'{a}tiene:\\,{años} años\\n{altura}')"
      ],
      "metadata": {
        "id": "HbhfSSSGt0Q2"
      },
      "execution_count": null,
      "outputs": []
    },
    {
      "cell_type": "code",
      "source": [
        "print(f'datos{a}')\n",
        "print(f'tiene{años} años')\n",
        "print(f'mide{altura}')"
      ],
      "metadata": {
        "id": "B4kv3RE1t345"
      },
      "execution_count": null,
      "outputs": []
    },
    {
      "cell_type": "code",
      "source": [
        "base=float(input(\"ingresa la base:\\nIngresa la altura\"))\n",
        "print(f'el area del triangulo es:{base*altura/2}')"
      ],
      "metadata": {
        "id": "dPAeGiITlNTh"
      },
      "execution_count": null,
      "outputs": []
    },
    {
      "cell_type": "code",
      "source": [
        "#determinar si en numero es par o impar\n",
        "num=int(input('ingrese el numero'))\n",
        "if num%2==0:\n",
        "  print(f'{num}es par')\n",
        "else:\n",
        "    print(f'{num}es impar')"
      ],
      "metadata": {
        "colab": {
          "base_uri": "https://localhost:8080/"
        },
        "id": "zZ-moCfyukFs",
        "outputId": "1e1b4b30-0241-4bdd-ff47-c9854e91c825"
      },
      "execution_count": null,
      "outputs": [
        {
          "output_type": "stream",
          "name": "stdout",
          "text": [
            "ingrese el numero2\n",
            "2es par\n"
          ]
        }
      ]
    },
    {
      "cell_type": "code",
      "source": [
        "num=int(input('ingrese un numero:'))\n",
        "print(f'{num} es par') if num%2==0 else print(f'{num}es par')"
      ],
      "metadata": {
        "colab": {
          "base_uri": "https://localhost:8080/"
        },
        "id": "xLnoWj1kvojq",
        "outputId": "48b17bec-f0eb-48ef-f40d-041d1fe2278e"
      },
      "execution_count": null,
      "outputs": [
        {
          "output_type": "stream",
          "name": "stdout",
          "text": [
            "ingrese un numero:2\n",
            "2 es par\n"
          ]
        }
      ]
    },
    {
      "cell_type": "code",
      "source": [
        "# 1. Conversión de Celsius a Fahrenheit\n",
        "c= float(input('Ingresa la temperatura en grados Celsius: '))\n",
        "f = (c * 9/5) + 32\n",
        "print(f'\\nLa temperatura en Fahrenheit es: {f}')"
      ],
      "metadata": {
        "colab": {
          "base_uri": "https://localhost:8080/"
        },
        "id": "YHvjE-p1yFLL",
        "outputId": "2577b620-49f0-4730-f9d4-05a323d41b24"
      },
      "execution_count": null,
      "outputs": [
        {
          "output_type": "stream",
          "name": "stdout",
          "text": [
            "Ingresa la temperatura en grados Celsius: 4\n",
            "\n",
            "La temperatura en Fahrenheit es: 39.2\n"
          ]
        }
      ]
    },
    {
      "cell_type": "code",
      "source": [
        "# 2. Cálculo del promedio de tres números\n",
        "num1 = float(input(\"Ingresa el primer número: \"))\n",
        "num2 = float(input(\"Ingresa el segundo número: \"))\n",
        "num3 = float(input(\"Ingresa el tercer número: \"))\n",
        "promedio = (num1 + num2 + num3) / 3\n",
        "print(f\"\\nEl promedio de los tres números es: {promedio}\\n\")"
      ],
      "metadata": {
        "id": "5mhHpVuJyj8Z"
      },
      "execution_count": null,
      "outputs": []
    }
  ]
}