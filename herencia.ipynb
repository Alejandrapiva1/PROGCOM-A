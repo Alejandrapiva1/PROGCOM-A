{
  "nbformat": 4,
  "nbformat_minor": 0,
  "metadata": {
    "colab": {
      "provenance": []
    },
    "kernelspec": {
      "name": "python3",
      "display_name": "Python 3"
    },
    "language_info": {
      "name": "python"
    }
  },
  "cells": [
    {
      "cell_type": "markdown",
      "source": [
        "Alejandra piva"
      ],
      "metadata": {
        "id": "FOn0cA8prZEH"
      }
    },
    {
      "cell_type": "code",
      "execution_count": 4,
      "metadata": {
        "colab": {
          "base_uri": "https://localhost:8080/"
        },
        "id": "bpzeG677jqPX",
        "outputId": "37cfc4be-330e-477e-d704-2c4d824a9b32"
      },
      "outputs": [
        {
          "output_type": "stream",
          "name": "stdout",
          "text": [
            "Esta forma es de color verde\n",
            "El área del rectángulo es: 48\n",
            "El área del círculo es: 254.46900494077323\n"
          ]
        }
      ],
      "source": [
        "import math\n",
        "\n",
        "class Forma:\n",
        "    def __init__(self, color):\n",
        "        self.color = color\n",
        "\n",
        "    def area(self):\n",
        "        return 0\n",
        "\n",
        "    def describir(self):\n",
        "        print(f\"Esta forma es de color {self.color}\")\n",
        "\n",
        "class Rectangulo(Forma):\n",
        "    def __init__(self, color, base, altura):\n",
        "        super().__init__(color)\n",
        "        self.base = base\n",
        "        self.altura = altura\n",
        "\n",
        "    def area(self):\n",
        "        return self.base * self.altura\n",
        "\n",
        "    def calcular_perimetro(self):\n",
        "        return 2 * (self.base + self.altura)\n",
        "\n",
        "class Circulo(Forma):\n",
        "    def __init__(self, color, radio):\n",
        "        super().__init__(color)\n",
        "        self.radio = radio\n",
        "\n",
        "    def area(self):\n",
        "        return math.pi * self.radio**2\n",
        "\n",
        "# Crear instancias de Rectangulo y Circulo\n",
        "mi_rectangulo = Rectangulo(\"verde\", 8, 6)\n",
        "mi_circulo = Circulo(\"azul\", 9)\n",
        "\n",
        "# Ejecutar métodos\n",
        "mi_rectangulo.describir()\n",
        "print(f\"El área del rectángulo es: {mi_rectangulo.area()}\")\n",
        "\n",
        "print(f\"El área del círculo es: {mi_circulo.area()}\")\n"
      ]
    }
  ]
}