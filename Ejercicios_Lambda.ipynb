{
  "nbformat": 4,
  "nbformat_minor": 0,
  "metadata": {
    "colab": {
      "provenance": []
    },
    "kernelspec": {
      "name": "python3",
      "display_name": "Python 3"
    },
    "language_info": {
      "name": "python"
    }
  },
  "cells": [
    {
      "cell_type": "markdown",
      "source": [
        "Ejecicios con lambda\n",
        "Alejandra piva U00182258\n"
      ],
      "metadata": {
        "id": "ltW2tpsd2RRU"
      }
    },
    {
      "cell_type": "code",
      "execution_count": null,
      "metadata": {
        "id": "GQjyjJxb2Qgx"
      },
      "outputs": [],
      "source": [
        "#numeros pares del 1 al 100\n",
        "pares = list(filter(lambda x: x % 2 == 0, range(1, 101)))\n",
        "print(pares)\n"
      ]
    },
    {
      "cell_type": "code",
      "source": [
        "#calcular la suma de los digitos de un numero\n",
        "numero = input(\"Introduce un número: \")\n",
        "digitos = lambda x: sum(int(digito) for digito in x)\n",
        "print(f\"La suma de los dígitos es: {digitos(numero)}\")\n"
      ],
      "metadata": {
        "id": "HlaEB5Lv2t9D"
      },
      "execution_count": null,
      "outputs": []
    },
    {
      "cell_type": "code",
      "source": [
        "#determinar si un numero es primo\n",
        "powrimo = lambda n: n > 1 and (lambda: [False for i in range(2, int(n**0.5) + 1) if n % i == 0] == [])()\n",
        "numero = int(input(\"Introduce un número: \"))\n",
        "\n",
        "if primo(numero):\n",
        "    print(f\"{numero} es un número primo.\")\n",
        "else:\n",
        "    print(f\"{numero} no es un número primo.\")\n",
        "\n"
      ],
      "metadata": {
        "id": "yMv1_Yg926tT"
      },
      "execution_count": null,
      "outputs": []
    },
    {
      "cell_type": "code",
      "source": [
        "#mostrar el patron de un triangulo con astericos\n",
        "altura = int(input(\"Introduce la altura del triángulo: \"))\n",
        "triangulo = lambda h: [print('*' * (i+1)) for i in range(h)]\n",
        "triangulo(altura)\n"
      ],
      "metadata": {
        "id": "dJssmWNs3aMm"
      },
      "execution_count": null,
      "outputs": []
    },
    {
      "cell_type": "code",
      "source": [
        "#adivina el color entre un conjunto de diez colores definidos por el usuario, con un máximo de 10 intentos\n",
        "import random\n",
        "colores = [input(f\"Introduce el color {i+1}: \") for i in range(10)]\n",
        "color = random.choice(colores)\n",
        "adivinanza = lambda intento: intento == color\n",
        "intentos = 0\n",
        "while intentos < 10:\n",
        "    intento = input(\"Adivina el color: \")\n",
        "    if adivinanza(intento):\n",
        "        print(\"¡Correcto! Has adivinado el color.\")\n",
        "        break\n",
        "    else:\n",
        "        print(\"Incorrecto. Intenta nuevamente.\")\n",
        "    intentos += 1\n",
        "\n",
        "if intentos == 10:\n",
        "    print(f\"¡Lo siento! El color correcto era: {color}\")\n"
      ],
      "metadata": {
        "id": "Va_0HusK3pSB"
      },
      "execution_count": null,
      "outputs": []
    }
  ]
}